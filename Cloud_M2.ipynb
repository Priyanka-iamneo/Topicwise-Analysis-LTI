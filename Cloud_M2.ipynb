{
 "cells": [
  {
   "cell_type": "code",
   "execution_count": 2,
   "metadata": {},
   "outputs": [],
   "source": [
    "import pandas as pd\n",
    "import numpy as np\n",
    "\n",
    "import matplotlib as mpl\n",
    "import matplotlib.pyplot as plt\n",
    "import seaborn as sns\n",
    "import plotly.express as px\n",
    "import chart_studio.plotly as py\n",
    "import cufflinks as cf\n",
    "# Make Plotly work in your Jupyter Notebook\n",
    "from plotly.offline import download_plotlyjs, init_notebook_mode, plot, iplot\n",
    "init_notebook_mode(connected=True)\n",
    "# Use Plotly locally\n",
    "cf.go_offline()\n",
    "%matplotlib inline \n"
   ]
  },
  {
   "cell_type": "code",
   "execution_count": 4,
   "metadata": {},
   "outputs": [],
   "source": [
    "df=pd.read_csv(\"Cloud(Topic-wise) - All Milestones.csv\")"
   ]
  },
  {
   "cell_type": "code",
   "execution_count": 5,
   "metadata": {},
   "outputs": [],
   "source": [
    "milestone2=df.loc[df['Milestone Number']=='Milestone 02']"
   ]
  },
  {
   "cell_type": "code",
   "execution_count": 6,
   "metadata": {},
   "outputs": [
    {
     "data": {
      "text/html": [
       "<div>\n",
       "<style scoped>\n",
       "    .dataframe tbody tr th:only-of-type {\n",
       "        vertical-align: middle;\n",
       "    }\n",
       "\n",
       "    .dataframe tbody tr th {\n",
       "        vertical-align: top;\n",
       "    }\n",
       "\n",
       "    .dataframe thead th {\n",
       "        text-align: right;\n",
       "    }\n",
       "</style>\n",
       "<table border=\"1\" class=\"dataframe\">\n",
       "  <thead>\n",
       "    <tr style=\"text-align: right;\">\n",
       "      <th></th>\n",
       "      <th>Name</th>\n",
       "      <th>Email</th>\n",
       "      <th>Milestone Number</th>\n",
       "      <th>Course</th>\n",
       "      <th>Test</th>\n",
       "      <th>Test Duration</th>\n",
       "      <th>Marks Scored</th>\n",
       "      <th>Max Marks</th>\n",
       "      <th>Total Questions</th>\n",
       "      <th>Total Attended Questions</th>\n",
       "      <th>...</th>\n",
       "      <th>Topic</th>\n",
       "      <th>SubTopic</th>\n",
       "      <th>Questions Correct</th>\n",
       "      <th>Questions Wrong</th>\n",
       "      <th>Questions Partial</th>\n",
       "      <th>Questions Skipped</th>\n",
       "      <th>Questions Not Viewed</th>\n",
       "      <th>Cambuzz ID</th>\n",
       "      <th>Status</th>\n",
       "      <th>Sub-status</th>\n",
       "    </tr>\n",
       "  </thead>\n",
       "  <tbody>\n",
       "    <tr>\n",
       "      <th>12265</th>\n",
       "      <td>ASMITA CHAKRABORTY</td>\n",
       "      <td>asmitachakraborty655@gmail.com</td>\n",
       "      <td>Milestone 02</td>\n",
       "      <td>LTI_Ignite_Cloud_Milestone 02_Cloud</td>\n",
       "      <td>LTI_Ignite_Cloud_Milestone 02_Cloud TF</td>\n",
       "      <td>00:26:43</td>\n",
       "      <td>0.0</td>\n",
       "      <td>21</td>\n",
       "      <td>2</td>\n",
       "      <td>2</td>\n",
       "      <td>...</td>\n",
       "      <td>AWS</td>\n",
       "      <td>EC2</td>\n",
       "      <td>0</td>\n",
       "      <td>1</td>\n",
       "      <td>1</td>\n",
       "      <td>0</td>\n",
       "      <td>0</td>\n",
       "      <td>80042594</td>\n",
       "      <td>Cleared</td>\n",
       "      <td>Cleared - Attempt 01</td>\n",
       "    </tr>\n",
       "    <tr>\n",
       "      <th>12266</th>\n",
       "      <td>ASMITA CHAKRABORTY</td>\n",
       "      <td>asmitachakraborty655@gmail.com</td>\n",
       "      <td>Milestone 02</td>\n",
       "      <td>LTI_Ignite_Cloud_Milestone 02_Cloud</td>\n",
       "      <td>LTI_Ignite_Cloud_Milestone 02_Cloud</td>\n",
       "      <td>00:35:00</td>\n",
       "      <td>0.0</td>\n",
       "      <td>20</td>\n",
       "      <td>1</td>\n",
       "      <td>1</td>\n",
       "      <td>...</td>\n",
       "      <td>AWS</td>\n",
       "      <td>EC2</td>\n",
       "      <td>0</td>\n",
       "      <td>0</td>\n",
       "      <td>1</td>\n",
       "      <td>0</td>\n",
       "      <td>0</td>\n",
       "      <td>80042594</td>\n",
       "      <td>Cleared</td>\n",
       "      <td>Cleared - Attempt 01</td>\n",
       "    </tr>\n",
       "    <tr>\n",
       "      <th>12267</th>\n",
       "      <td>ASMITA CHAKRABORTY</td>\n",
       "      <td>asmitachakraborty655@gmail.com</td>\n",
       "      <td>Milestone 02</td>\n",
       "      <td>LTI_Ignite_Cloud_Milestone 02_Cloud</td>\n",
       "      <td>LTI_Ignite_Cloud_Milestone 02_MCQ and SF</td>\n",
       "      <td>00:51:49</td>\n",
       "      <td>55.0</td>\n",
       "      <td>60</td>\n",
       "      <td>20</td>\n",
       "      <td>20</td>\n",
       "      <td>...</td>\n",
       "      <td>Cloud</td>\n",
       "      <td>Fundamentals</td>\n",
       "      <td>17</td>\n",
       "      <td>3</td>\n",
       "      <td>0</td>\n",
       "      <td>0</td>\n",
       "      <td>0</td>\n",
       "      <td>80042594</td>\n",
       "      <td>Cleared</td>\n",
       "      <td>Cleared - Attempt 01</td>\n",
       "    </tr>\n",
       "    <tr>\n",
       "      <th>12268</th>\n",
       "      <td>Maran S</td>\n",
       "      <td>svmm.maran@gmail.com</td>\n",
       "      <td>Milestone 02</td>\n",
       "      <td>LTI_Ignite_Cloud_Milestone 02_Cloud</td>\n",
       "      <td>LTI_Ignite_Cloud_Milestone 02_Cloud TF</td>\n",
       "      <td>00:00:00</td>\n",
       "      <td>0.0</td>\n",
       "      <td>21</td>\n",
       "      <td>2</td>\n",
       "      <td>2</td>\n",
       "      <td>...</td>\n",
       "      <td>AWS</td>\n",
       "      <td>EC2</td>\n",
       "      <td>0</td>\n",
       "      <td>0</td>\n",
       "      <td>2</td>\n",
       "      <td>0</td>\n",
       "      <td>0</td>\n",
       "      <td>2023Nov@05332</td>\n",
       "      <td>Cleared</td>\n",
       "      <td>Cleared - Attempt 01</td>\n",
       "    </tr>\n",
       "    <tr>\n",
       "      <th>12269</th>\n",
       "      <td>Maran S</td>\n",
       "      <td>svmm.maran@gmail.com</td>\n",
       "      <td>Milestone 02</td>\n",
       "      <td>LTI_Ignite_Cloud_Milestone 02_Cloud</td>\n",
       "      <td>LTI_Ignite_Cloud_Milestone 02_Cloud</td>\n",
       "      <td>00:06:00</td>\n",
       "      <td>0.0</td>\n",
       "      <td>20</td>\n",
       "      <td>1</td>\n",
       "      <td>1</td>\n",
       "      <td>...</td>\n",
       "      <td>AWS</td>\n",
       "      <td>EC2</td>\n",
       "      <td>0</td>\n",
       "      <td>0</td>\n",
       "      <td>1</td>\n",
       "      <td>0</td>\n",
       "      <td>0</td>\n",
       "      <td>2023Nov@05332</td>\n",
       "      <td>Cleared</td>\n",
       "      <td>Cleared - Attempt 01</td>\n",
       "    </tr>\n",
       "    <tr>\n",
       "      <th>...</th>\n",
       "      <td>...</td>\n",
       "      <td>...</td>\n",
       "      <td>...</td>\n",
       "      <td>...</td>\n",
       "      <td>...</td>\n",
       "      <td>...</td>\n",
       "      <td>...</td>\n",
       "      <td>...</td>\n",
       "      <td>...</td>\n",
       "      <td>...</td>\n",
       "      <td>...</td>\n",
       "      <td>...</td>\n",
       "      <td>...</td>\n",
       "      <td>...</td>\n",
       "      <td>...</td>\n",
       "      <td>...</td>\n",
       "      <td>...</td>\n",
       "      <td>...</td>\n",
       "      <td>...</td>\n",
       "      <td>...</td>\n",
       "      <td>...</td>\n",
       "    </tr>\n",
       "    <tr>\n",
       "      <th>15561</th>\n",
       "      <td>Akshara Reddy Arrabolu</td>\n",
       "      <td>arraboluakshu00@gmail.com</td>\n",
       "      <td>Milestone 02</td>\n",
       "      <td>LTI_Ignite_Cloud_Milestone 02_Cloud_Slot 02</td>\n",
       "      <td>LTI_Ignite_Cloud_Milestone 02_Cloud_Slot 02</td>\n",
       "      <td>00:11:00</td>\n",
       "      <td>0.0</td>\n",
       "      <td>20</td>\n",
       "      <td>1</td>\n",
       "      <td>1</td>\n",
       "      <td>...</td>\n",
       "      <td>AWS</td>\n",
       "      <td>EC2</td>\n",
       "      <td>0</td>\n",
       "      <td>0</td>\n",
       "      <td>1</td>\n",
       "      <td>0</td>\n",
       "      <td>0</td>\n",
       "      <td>2023Nov@02970</td>\n",
       "      <td>Cleared</td>\n",
       "      <td>Cleared - Attempt 01</td>\n",
       "    </tr>\n",
       "    <tr>\n",
       "      <th>15562</th>\n",
       "      <td>Tutika  Sathvika</td>\n",
       "      <td>19131a12b2@gvpce.ac.in</td>\n",
       "      <td>Milestone 02</td>\n",
       "      <td>LTI_Ignite_Cloud_Milestone 02_Cloud_Slot 02</td>\n",
       "      <td>LTI_Ignite_Cloud_Milestone 02_Cloud TF_Slot 02</td>\n",
       "      <td>00:07:35</td>\n",
       "      <td>0.0</td>\n",
       "      <td>20</td>\n",
       "      <td>2</td>\n",
       "      <td>2</td>\n",
       "      <td>...</td>\n",
       "      <td>AWS</td>\n",
       "      <td>EC2</td>\n",
       "      <td>0</td>\n",
       "      <td>0</td>\n",
       "      <td>2</td>\n",
       "      <td>0</td>\n",
       "      <td>0</td>\n",
       "      <td>80042016</td>\n",
       "      <td>Cleared</td>\n",
       "      <td>Cleared - Attempt 02</td>\n",
       "    </tr>\n",
       "    <tr>\n",
       "      <th>15563</th>\n",
       "      <td>Tutika  Sathvika</td>\n",
       "      <td>19131a12b2@gvpce.ac.in</td>\n",
       "      <td>Milestone 02</td>\n",
       "      <td>LTI_Ignite_Cloud_Milestone 02_Cloud_Slot 02</td>\n",
       "      <td>LTI_Ignite_Cloud_Milestone 02_Cloud_Slot 02</td>\n",
       "      <td>00:04:47</td>\n",
       "      <td>20.0</td>\n",
       "      <td>20</td>\n",
       "      <td>1</td>\n",
       "      <td>1</td>\n",
       "      <td>...</td>\n",
       "      <td>AWS</td>\n",
       "      <td>EC2</td>\n",
       "      <td>1</td>\n",
       "      <td>0</td>\n",
       "      <td>0</td>\n",
       "      <td>0</td>\n",
       "      <td>0</td>\n",
       "      <td>80042016</td>\n",
       "      <td>Cleared</td>\n",
       "      <td>Cleared - Attempt 02</td>\n",
       "    </tr>\n",
       "    <tr>\n",
       "      <th>15564</th>\n",
       "      <td>Prasath KP</td>\n",
       "      <td>prasath10416@gmail.com</td>\n",
       "      <td>Milestone 02</td>\n",
       "      <td>LTI_Ignite_Cloud_Milestone 02_Cloud_Slot 02</td>\n",
       "      <td>LTI_Ignite_Cloud_Milestone 02_Cloud TF_Slot 02</td>\n",
       "      <td>00:07:30</td>\n",
       "      <td>0.0</td>\n",
       "      <td>20</td>\n",
       "      <td>2</td>\n",
       "      <td>2</td>\n",
       "      <td>...</td>\n",
       "      <td>AWS</td>\n",
       "      <td>EC2</td>\n",
       "      <td>0</td>\n",
       "      <td>1</td>\n",
       "      <td>1</td>\n",
       "      <td>0</td>\n",
       "      <td>0</td>\n",
       "      <td>2023Nov@04358</td>\n",
       "      <td>Cleared</td>\n",
       "      <td>Cleared - Attempt 02</td>\n",
       "    </tr>\n",
       "    <tr>\n",
       "      <th>15565</th>\n",
       "      <td>Prasath KP</td>\n",
       "      <td>prasath10416@gmail.com</td>\n",
       "      <td>Milestone 02</td>\n",
       "      <td>LTI_Ignite_Cloud_Milestone 02_Cloud_Slot 02</td>\n",
       "      <td>LTI_Ignite_Cloud_Milestone 02_Cloud_Slot 02</td>\n",
       "      <td>00:10:00</td>\n",
       "      <td>0.0</td>\n",
       "      <td>20</td>\n",
       "      <td>1</td>\n",
       "      <td>1</td>\n",
       "      <td>...</td>\n",
       "      <td>AWS</td>\n",
       "      <td>EC2</td>\n",
       "      <td>0</td>\n",
       "      <td>0</td>\n",
       "      <td>1</td>\n",
       "      <td>0</td>\n",
       "      <td>0</td>\n",
       "      <td>2023Nov@04358</td>\n",
       "      <td>Cleared</td>\n",
       "      <td>Cleared - Attempt 02</td>\n",
       "    </tr>\n",
       "  </tbody>\n",
       "</table>\n",
       "<p>3301 rows × 21 columns</p>\n",
       "</div>"
      ],
      "text/plain": [
       "                         Name                           Email   \n",
       "12265      ASMITA CHAKRABORTY  asmitachakraborty655@gmail.com  \\\n",
       "12266      ASMITA CHAKRABORTY  asmitachakraborty655@gmail.com   \n",
       "12267      ASMITA CHAKRABORTY  asmitachakraborty655@gmail.com   \n",
       "12268                 Maran S            svmm.maran@gmail.com   \n",
       "12269                 Maran S            svmm.maran@gmail.com   \n",
       "...                       ...                             ...   \n",
       "15561  Akshara Reddy Arrabolu       arraboluakshu00@gmail.com   \n",
       "15562        Tutika  Sathvika          19131a12b2@gvpce.ac.in   \n",
       "15563        Tutika  Sathvika          19131a12b2@gvpce.ac.in   \n",
       "15564              Prasath KP          prasath10416@gmail.com   \n",
       "15565              Prasath KP          prasath10416@gmail.com   \n",
       "\n",
       "      Milestone Number                                       Course   \n",
       "12265     Milestone 02          LTI_Ignite_Cloud_Milestone 02_Cloud  \\\n",
       "12266     Milestone 02          LTI_Ignite_Cloud_Milestone 02_Cloud   \n",
       "12267     Milestone 02          LTI_Ignite_Cloud_Milestone 02_Cloud   \n",
       "12268     Milestone 02          LTI_Ignite_Cloud_Milestone 02_Cloud   \n",
       "12269     Milestone 02          LTI_Ignite_Cloud_Milestone 02_Cloud   \n",
       "...                ...                                          ...   \n",
       "15561     Milestone 02  LTI_Ignite_Cloud_Milestone 02_Cloud_Slot 02   \n",
       "15562     Milestone 02  LTI_Ignite_Cloud_Milestone 02_Cloud_Slot 02   \n",
       "15563     Milestone 02  LTI_Ignite_Cloud_Milestone 02_Cloud_Slot 02   \n",
       "15564     Milestone 02  LTI_Ignite_Cloud_Milestone 02_Cloud_Slot 02   \n",
       "15565     Milestone 02  LTI_Ignite_Cloud_Milestone 02_Cloud_Slot 02   \n",
       "\n",
       "                                                 Test Test Duration   \n",
       "12265          LTI_Ignite_Cloud_Milestone 02_Cloud TF      00:26:43  \\\n",
       "12266             LTI_Ignite_Cloud_Milestone 02_Cloud      00:35:00   \n",
       "12267        LTI_Ignite_Cloud_Milestone 02_MCQ and SF      00:51:49   \n",
       "12268          LTI_Ignite_Cloud_Milestone 02_Cloud TF      00:00:00   \n",
       "12269             LTI_Ignite_Cloud_Milestone 02_Cloud      00:06:00   \n",
       "...                                               ...           ...   \n",
       "15561     LTI_Ignite_Cloud_Milestone 02_Cloud_Slot 02      00:11:00   \n",
       "15562  LTI_Ignite_Cloud_Milestone 02_Cloud TF_Slot 02      00:07:35   \n",
       "15563     LTI_Ignite_Cloud_Milestone 02_Cloud_Slot 02      00:04:47   \n",
       "15564  LTI_Ignite_Cloud_Milestone 02_Cloud TF_Slot 02      00:07:30   \n",
       "15565     LTI_Ignite_Cloud_Milestone 02_Cloud_Slot 02      00:10:00   \n",
       "\n",
       "       Marks Scored  Max Marks  Total Questions  Total Attended Questions   \n",
       "12265           0.0         21                2                         2  \\\n",
       "12266           0.0         20                1                         1   \n",
       "12267          55.0         60               20                        20   \n",
       "12268           0.0         21                2                         2   \n",
       "12269           0.0         20                1                         1   \n",
       "...             ...        ...              ...                       ...   \n",
       "15561           0.0         20                1                         1   \n",
       "15562           0.0         20                2                         2   \n",
       "15563          20.0         20                1                         1   \n",
       "15564           0.0         20                2                         2   \n",
       "15565           0.0         20                1                         1   \n",
       "\n",
       "       ...  Topic      SubTopic Questions Correct  Questions Wrong   \n",
       "12265  ...    AWS           EC2                 0                1  \\\n",
       "12266  ...    AWS           EC2                 0                0   \n",
       "12267  ...  Cloud  Fundamentals                17                3   \n",
       "12268  ...    AWS           EC2                 0                0   \n",
       "12269  ...    AWS           EC2                 0                0   \n",
       "...    ...    ...           ...               ...              ...   \n",
       "15561  ...    AWS           EC2                 0                0   \n",
       "15562  ...    AWS           EC2                 0                0   \n",
       "15563  ...    AWS           EC2                 1                0   \n",
       "15564  ...    AWS           EC2                 0                1   \n",
       "15565  ...    AWS           EC2                 0                0   \n",
       "\n",
       "       Questions Partial  Questions Skipped  Questions Not Viewed   \n",
       "12265                  1                  0                     0  \\\n",
       "12266                  1                  0                     0   \n",
       "12267                  0                  0                     0   \n",
       "12268                  2                  0                     0   \n",
       "12269                  1                  0                     0   \n",
       "...                  ...                ...                   ...   \n",
       "15561                  1                  0                     0   \n",
       "15562                  2                  0                     0   \n",
       "15563                  0                  0                     0   \n",
       "15564                  1                  0                     0   \n",
       "15565                  1                  0                     0   \n",
       "\n",
       "          Cambuzz ID   Status            Sub-status  \n",
       "12265       80042594  Cleared  Cleared - Attempt 01  \n",
       "12266       80042594  Cleared  Cleared - Attempt 01  \n",
       "12267       80042594  Cleared  Cleared - Attempt 01  \n",
       "12268  2023Nov@05332  Cleared  Cleared - Attempt 01  \n",
       "12269  2023Nov@05332  Cleared  Cleared - Attempt 01  \n",
       "...              ...      ...                   ...  \n",
       "15561  2023Nov@02970  Cleared  Cleared - Attempt 01  \n",
       "15562       80042016  Cleared  Cleared - Attempt 02  \n",
       "15563       80042016  Cleared  Cleared - Attempt 02  \n",
       "15564  2023Nov@04358  Cleared  Cleared - Attempt 02  \n",
       "15565  2023Nov@04358  Cleared  Cleared - Attempt 02  \n",
       "\n",
       "[3301 rows x 21 columns]"
      ]
     },
     "execution_count": 6,
     "metadata": {},
     "output_type": "execute_result"
    }
   ],
   "source": [
    "milestone2"
   ]
  },
  {
   "cell_type": "code",
   "execution_count": 7,
   "metadata": {},
   "outputs": [],
   "source": [
    "milestone2['Questions Correct']=np.where(((milestone2['Test']=='LTI_Ignite_Cloud_Milestone 02_Cloud TF') |(milestone2['Test']=='LTI_Ignite_Cloud_Milestone 02_Cloud')|(milestone2['Test']=='LTI_Ignite_Cloud_Milestone 02_Cloud TF_Slot 02')|(milestone2['Test']=='LTI_Ignite_Cloud_Milestone 02_Cloud_Slot 02'))& (milestone2['Status']=='Cleared'),1,milestone2['Questions Correct'])\n",
    "milestone2['Total Attended Questions']=np.where(((milestone2['Test']=='LTI_Ignite_Cloud_Milestone 02_Cloud TF') |(milestone2['Test']=='LTI_Ignite_Cloud_Milestone 02_Cloud')|(milestone2['Test']=='LTI_Ignite_Cloud_Milestone 02_Cloud TF_Slot 02')|(milestone2['Test']=='LTI_Ignite_Cloud_Milestone 02_Cloud_Slot 02'))& (milestone2['Status']=='Cleared'),1,milestone2['Total Attended Questions'])\n",
    "milestone2['Total Questions']=np.where(((milestone2['Test']=='LTI_Ignite_Cloud_Milestone 02_Cloud TF') |(milestone2['Test']=='LTI_Ignite_Cloud_Milestone 02_Cloud')|(milestone2['Test']=='LTI_Ignite_Cloud_Milestone 02_Cloud TF_Slot 02')|(milestone2['Test']=='LTI_Ignite_Cloud_Milestone 02_Cloud_Slot 02'))& (milestone2['Status']=='Cleared'),1,milestone2['Total Questions'])"
   ]
  },
  {
   "cell_type": "code",
   "execution_count": 12,
   "metadata": {},
   "outputs": [
    {
     "data": {
      "text/html": [
       "<div>\n",
       "<style scoped>\n",
       "    .dataframe tbody tr th:only-of-type {\n",
       "        vertical-align: middle;\n",
       "    }\n",
       "\n",
       "    .dataframe tbody tr th {\n",
       "        vertical-align: top;\n",
       "    }\n",
       "\n",
       "    .dataframe thead th {\n",
       "        text-align: right;\n",
       "    }\n",
       "</style>\n",
       "<table border=\"1\" class=\"dataframe\">\n",
       "  <thead>\n",
       "    <tr style=\"text-align: right;\">\n",
       "      <th></th>\n",
       "      <th>Name</th>\n",
       "      <th>Email</th>\n",
       "      <th>Milestone Number</th>\n",
       "      <th>Course</th>\n",
       "      <th>Test</th>\n",
       "      <th>Test Duration</th>\n",
       "      <th>Marks Scored</th>\n",
       "      <th>Max Marks</th>\n",
       "      <th>Total Questions</th>\n",
       "      <th>Total Attended Questions</th>\n",
       "      <th>...</th>\n",
       "      <th>Topic</th>\n",
       "      <th>SubTopic</th>\n",
       "      <th>Questions Correct</th>\n",
       "      <th>Questions Wrong</th>\n",
       "      <th>Questions Partial</th>\n",
       "      <th>Questions Skipped</th>\n",
       "      <th>Questions Not Viewed</th>\n",
       "      <th>Cambuzz ID</th>\n",
       "      <th>Status</th>\n",
       "      <th>Sub-status</th>\n",
       "    </tr>\n",
       "  </thead>\n",
       "  <tbody>\n",
       "    <tr>\n",
       "      <th>12265</th>\n",
       "      <td>ASMITA CHAKRABORTY</td>\n",
       "      <td>asmitachakraborty655@gmail.com</td>\n",
       "      <td>Milestone 02</td>\n",
       "      <td>LTI_Ignite_Cloud_Milestone 02_Cloud</td>\n",
       "      <td>LTI_Ignite_Cloud_Milestone 02_Cloud TF</td>\n",
       "      <td>00:26:43</td>\n",
       "      <td>0.0</td>\n",
       "      <td>21</td>\n",
       "      <td>1</td>\n",
       "      <td>1</td>\n",
       "      <td>...</td>\n",
       "      <td>AWS</td>\n",
       "      <td>EC2</td>\n",
       "      <td>1</td>\n",
       "      <td>1</td>\n",
       "      <td>1</td>\n",
       "      <td>0</td>\n",
       "      <td>0</td>\n",
       "      <td>80042594</td>\n",
       "      <td>Cleared</td>\n",
       "      <td>Cleared - Attempt 01</td>\n",
       "    </tr>\n",
       "    <tr>\n",
       "      <th>12266</th>\n",
       "      <td>ASMITA CHAKRABORTY</td>\n",
       "      <td>asmitachakraborty655@gmail.com</td>\n",
       "      <td>Milestone 02</td>\n",
       "      <td>LTI_Ignite_Cloud_Milestone 02_Cloud</td>\n",
       "      <td>LTI_Ignite_Cloud_Milestone 02_Cloud</td>\n",
       "      <td>00:35:00</td>\n",
       "      <td>0.0</td>\n",
       "      <td>20</td>\n",
       "      <td>1</td>\n",
       "      <td>1</td>\n",
       "      <td>...</td>\n",
       "      <td>AWS</td>\n",
       "      <td>EC2</td>\n",
       "      <td>1</td>\n",
       "      <td>0</td>\n",
       "      <td>1</td>\n",
       "      <td>0</td>\n",
       "      <td>0</td>\n",
       "      <td>80042594</td>\n",
       "      <td>Cleared</td>\n",
       "      <td>Cleared - Attempt 01</td>\n",
       "    </tr>\n",
       "    <tr>\n",
       "      <th>12267</th>\n",
       "      <td>ASMITA CHAKRABORTY</td>\n",
       "      <td>asmitachakraborty655@gmail.com</td>\n",
       "      <td>Milestone 02</td>\n",
       "      <td>LTI_Ignite_Cloud_Milestone 02_Cloud</td>\n",
       "      <td>LTI_Ignite_Cloud_Milestone 02_MCQ and SF</td>\n",
       "      <td>00:51:49</td>\n",
       "      <td>55.0</td>\n",
       "      <td>60</td>\n",
       "      <td>20</td>\n",
       "      <td>20</td>\n",
       "      <td>...</td>\n",
       "      <td>Cloud</td>\n",
       "      <td>Fundamentals</td>\n",
       "      <td>17</td>\n",
       "      <td>3</td>\n",
       "      <td>0</td>\n",
       "      <td>0</td>\n",
       "      <td>0</td>\n",
       "      <td>80042594</td>\n",
       "      <td>Cleared</td>\n",
       "      <td>Cleared - Attempt 01</td>\n",
       "    </tr>\n",
       "    <tr>\n",
       "      <th>12268</th>\n",
       "      <td>Maran S</td>\n",
       "      <td>svmm.maran@gmail.com</td>\n",
       "      <td>Milestone 02</td>\n",
       "      <td>LTI_Ignite_Cloud_Milestone 02_Cloud</td>\n",
       "      <td>LTI_Ignite_Cloud_Milestone 02_Cloud TF</td>\n",
       "      <td>00:00:00</td>\n",
       "      <td>0.0</td>\n",
       "      <td>21</td>\n",
       "      <td>1</td>\n",
       "      <td>1</td>\n",
       "      <td>...</td>\n",
       "      <td>AWS</td>\n",
       "      <td>EC2</td>\n",
       "      <td>1</td>\n",
       "      <td>0</td>\n",
       "      <td>2</td>\n",
       "      <td>0</td>\n",
       "      <td>0</td>\n",
       "      <td>2023Nov@05332</td>\n",
       "      <td>Cleared</td>\n",
       "      <td>Cleared - Attempt 01</td>\n",
       "    </tr>\n",
       "    <tr>\n",
       "      <th>12269</th>\n",
       "      <td>Maran S</td>\n",
       "      <td>svmm.maran@gmail.com</td>\n",
       "      <td>Milestone 02</td>\n",
       "      <td>LTI_Ignite_Cloud_Milestone 02_Cloud</td>\n",
       "      <td>LTI_Ignite_Cloud_Milestone 02_Cloud</td>\n",
       "      <td>00:06:00</td>\n",
       "      <td>0.0</td>\n",
       "      <td>20</td>\n",
       "      <td>1</td>\n",
       "      <td>1</td>\n",
       "      <td>...</td>\n",
       "      <td>AWS</td>\n",
       "      <td>EC2</td>\n",
       "      <td>1</td>\n",
       "      <td>0</td>\n",
       "      <td>1</td>\n",
       "      <td>0</td>\n",
       "      <td>0</td>\n",
       "      <td>2023Nov@05332</td>\n",
       "      <td>Cleared</td>\n",
       "      <td>Cleared - Attempt 01</td>\n",
       "    </tr>\n",
       "  </tbody>\n",
       "</table>\n",
       "<p>5 rows × 21 columns</p>\n",
       "</div>"
      ],
      "text/plain": [
       "                     Name                           Email Milestone Number   \n",
       "12265  ASMITA CHAKRABORTY  asmitachakraborty655@gmail.com     Milestone 02  \\\n",
       "12266  ASMITA CHAKRABORTY  asmitachakraborty655@gmail.com     Milestone 02   \n",
       "12267  ASMITA CHAKRABORTY  asmitachakraborty655@gmail.com     Milestone 02   \n",
       "12268             Maran S            svmm.maran@gmail.com     Milestone 02   \n",
       "12269             Maran S            svmm.maran@gmail.com     Milestone 02   \n",
       "\n",
       "                                    Course   \n",
       "12265  LTI_Ignite_Cloud_Milestone 02_Cloud  \\\n",
       "12266  LTI_Ignite_Cloud_Milestone 02_Cloud   \n",
       "12267  LTI_Ignite_Cloud_Milestone 02_Cloud   \n",
       "12268  LTI_Ignite_Cloud_Milestone 02_Cloud   \n",
       "12269  LTI_Ignite_Cloud_Milestone 02_Cloud   \n",
       "\n",
       "                                           Test Test Duration  Marks Scored   \n",
       "12265    LTI_Ignite_Cloud_Milestone 02_Cloud TF      00:26:43           0.0  \\\n",
       "12266       LTI_Ignite_Cloud_Milestone 02_Cloud      00:35:00           0.0   \n",
       "12267  LTI_Ignite_Cloud_Milestone 02_MCQ and SF      00:51:49          55.0   \n",
       "12268    LTI_Ignite_Cloud_Milestone 02_Cloud TF      00:00:00           0.0   \n",
       "12269       LTI_Ignite_Cloud_Milestone 02_Cloud      00:06:00           0.0   \n",
       "\n",
       "       Max Marks  Total Questions  Total Attended Questions  ...  Topic   \n",
       "12265         21                1                         1  ...    AWS  \\\n",
       "12266         20                1                         1  ...    AWS   \n",
       "12267         60               20                        20  ...  Cloud   \n",
       "12268         21                1                         1  ...    AWS   \n",
       "12269         20                1                         1  ...    AWS   \n",
       "\n",
       "           SubTopic Questions Correct  Questions Wrong  Questions Partial   \n",
       "12265           EC2                 1                1                  1  \\\n",
       "12266           EC2                 1                0                  1   \n",
       "12267  Fundamentals                17                3                  0   \n",
       "12268           EC2                 1                0                  2   \n",
       "12269           EC2                 1                0                  1   \n",
       "\n",
       "       Questions Skipped  Questions Not Viewed     Cambuzz ID   Status   \n",
       "12265                  0                     0       80042594  Cleared  \\\n",
       "12266                  0                     0       80042594  Cleared   \n",
       "12267                  0                     0       80042594  Cleared   \n",
       "12268                  0                     0  2023Nov@05332  Cleared   \n",
       "12269                  0                     0  2023Nov@05332  Cleared   \n",
       "\n",
       "                 Sub-status  \n",
       "12265  Cleared - Attempt 01  \n",
       "12266  Cleared - Attempt 01  \n",
       "12267  Cleared - Attempt 01  \n",
       "12268  Cleared - Attempt 01  \n",
       "12269  Cleared - Attempt 01  \n",
       "\n",
       "[5 rows x 21 columns]"
      ]
     },
     "execution_count": 12,
     "metadata": {},
     "output_type": "execute_result"
    }
   ],
   "source": [
    "milestone2.head()"
   ]
  },
  {
   "cell_type": "code",
   "execution_count": 13,
   "metadata": {},
   "outputs": [],
   "source": [
    "milestone2['topic_subtopic']=milestone2['Topic']+\" \"+ milestone2['SubTopic']"
   ]
  },
  {
   "cell_type": "code",
   "execution_count": null,
   "metadata": {},
   "outputs": [],
   "source": []
  },
  {
   "cell_type": "code",
   "execution_count": 21,
   "metadata": {},
   "outputs": [],
   "source": [
    "M2_subtopic_questions = milestone2.groupby(['Status','topic_subtopic']).agg({'Total Questions': 'sum',\n",
    "                                                                               'Total Attended Questions': 'sum',\n",
    "                                                                               'Questions Correct': 'sum',\n",
    "                                                                               'Questions Wrong': 'sum',\n",
    "                                                                               'Questions Partial': 'sum',\n",
    "                                                                               'Questions Skipped': 'sum',\n",
    "                                                                               'Questions Not Viewed':'sum'}).reset_index().sort_values(['Total Questions','Questions Correct'],ascending=False)\n"
   ]
  },
  {
   "cell_type": "code",
   "execution_count": 22,
   "metadata": {},
   "outputs": [
    {
     "data": {
      "text/html": [
       "<div>\n",
       "<style scoped>\n",
       "    .dataframe tbody tr th:only-of-type {\n",
       "        vertical-align: middle;\n",
       "    }\n",
       "\n",
       "    .dataframe tbody tr th {\n",
       "        vertical-align: top;\n",
       "    }\n",
       "\n",
       "    .dataframe thead th {\n",
       "        text-align: right;\n",
       "    }\n",
       "</style>\n",
       "<table border=\"1\" class=\"dataframe\">\n",
       "  <thead>\n",
       "    <tr style=\"text-align: right;\">\n",
       "      <th></th>\n",
       "      <th>Status</th>\n",
       "      <th>topic_subtopic</th>\n",
       "      <th>Total Questions</th>\n",
       "      <th>Total Attended Questions</th>\n",
       "      <th>Questions Correct</th>\n",
       "      <th>Questions Wrong</th>\n",
       "      <th>Questions Partial</th>\n",
       "      <th>Questions Skipped</th>\n",
       "      <th>Questions Not Viewed</th>\n",
       "    </tr>\n",
       "  </thead>\n",
       "  <tbody>\n",
       "    <tr>\n",
       "      <th>2</th>\n",
       "      <td>Cleared</td>\n",
       "      <td>Cloud Fundamentals</td>\n",
       "      <td>14494</td>\n",
       "      <td>14494</td>\n",
       "      <td>11499</td>\n",
       "      <td>2232</td>\n",
       "      <td>237</td>\n",
       "      <td>0</td>\n",
       "      <td>526</td>\n",
       "    </tr>\n",
       "    <tr>\n",
       "      <th>8</th>\n",
       "      <td>Not Cleared</td>\n",
       "      <td>Cloud Fundamentals</td>\n",
       "      <td>2816</td>\n",
       "      <td>2816</td>\n",
       "      <td>1963</td>\n",
       "      <td>606</td>\n",
       "      <td>70</td>\n",
       "      <td>0</td>\n",
       "      <td>177</td>\n",
       "    </tr>\n",
       "    <tr>\n",
       "      <th>1</th>\n",
       "      <td>Cleared</td>\n",
       "      <td>AWS EC2</td>\n",
       "      <td>2203</td>\n",
       "      <td>2203</td>\n",
       "      <td>2102</td>\n",
       "      <td>260</td>\n",
       "      <td>2506</td>\n",
       "      <td>1</td>\n",
       "      <td>203</td>\n",
       "    </tr>\n",
       "    <tr>\n",
       "      <th>7</th>\n",
       "      <td>Not Cleared</td>\n",
       "      <td>AWS EC2</td>\n",
       "      <td>428</td>\n",
       "      <td>428</td>\n",
       "      <td>20</td>\n",
       "      <td>82</td>\n",
       "      <td>298</td>\n",
       "      <td>0</td>\n",
       "      <td>28</td>\n",
       "    </tr>\n",
       "    <tr>\n",
       "      <th>11</th>\n",
       "      <td>Not Eligible</td>\n",
       "      <td>Cloud Fundamentals</td>\n",
       "      <td>216</td>\n",
       "      <td>216</td>\n",
       "      <td>168</td>\n",
       "      <td>43</td>\n",
       "      <td>0</td>\n",
       "      <td>0</td>\n",
       "      <td>5</td>\n",
       "    </tr>\n",
       "    <tr>\n",
       "      <th>5</th>\n",
       "      <td>Not Attended</td>\n",
       "      <td>Cloud Fundamentals</td>\n",
       "      <td>171</td>\n",
       "      <td>171</td>\n",
       "      <td>97</td>\n",
       "      <td>32</td>\n",
       "      <td>3</td>\n",
       "      <td>0</td>\n",
       "      <td>39</td>\n",
       "    </tr>\n",
       "    <tr>\n",
       "      <th>0</th>\n",
       "      <td>Cleared</td>\n",
       "      <td>AWS Basics</td>\n",
       "      <td>59</td>\n",
       "      <td>59</td>\n",
       "      <td>58</td>\n",
       "      <td>1</td>\n",
       "      <td>0</td>\n",
       "      <td>0</td>\n",
       "      <td>0</td>\n",
       "    </tr>\n",
       "    <tr>\n",
       "      <th>6</th>\n",
       "      <td>Not Cleared</td>\n",
       "      <td>AWS Basics</td>\n",
       "      <td>30</td>\n",
       "      <td>30</td>\n",
       "      <td>23</td>\n",
       "      <td>0</td>\n",
       "      <td>2</td>\n",
       "      <td>2</td>\n",
       "      <td>3</td>\n",
       "    </tr>\n",
       "    <tr>\n",
       "      <th>4</th>\n",
       "      <td>Not Attended</td>\n",
       "      <td>AWS EC2</td>\n",
       "      <td>24</td>\n",
       "      <td>24</td>\n",
       "      <td>2</td>\n",
       "      <td>2</td>\n",
       "      <td>17</td>\n",
       "      <td>0</td>\n",
       "      <td>3</td>\n",
       "    </tr>\n",
       "    <tr>\n",
       "      <th>10</th>\n",
       "      <td>Not Eligible</td>\n",
       "      <td>AWS EC2</td>\n",
       "      <td>22</td>\n",
       "      <td>22</td>\n",
       "      <td>2</td>\n",
       "      <td>8</td>\n",
       "      <td>11</td>\n",
       "      <td>0</td>\n",
       "      <td>1</td>\n",
       "    </tr>\n",
       "    <tr>\n",
       "      <th>9</th>\n",
       "      <td>Not Eligible</td>\n",
       "      <td>AWS Basics</td>\n",
       "      <td>3</td>\n",
       "      <td>3</td>\n",
       "      <td>3</td>\n",
       "      <td>0</td>\n",
       "      <td>0</td>\n",
       "      <td>0</td>\n",
       "      <td>0</td>\n",
       "    </tr>\n",
       "    <tr>\n",
       "      <th>3</th>\n",
       "      <td>Not Attended</td>\n",
       "      <td>AWS Basics</td>\n",
       "      <td>1</td>\n",
       "      <td>1</td>\n",
       "      <td>1</td>\n",
       "      <td>0</td>\n",
       "      <td>0</td>\n",
       "      <td>0</td>\n",
       "      <td>0</td>\n",
       "    </tr>\n",
       "  </tbody>\n",
       "</table>\n",
       "</div>"
      ],
      "text/plain": [
       "          Status      topic_subtopic  Total Questions   \n",
       "2        Cleared  Cloud Fundamentals            14494  \\\n",
       "8    Not Cleared  Cloud Fundamentals             2816   \n",
       "1        Cleared             AWS EC2             2203   \n",
       "7    Not Cleared             AWS EC2              428   \n",
       "11  Not Eligible  Cloud Fundamentals              216   \n",
       "5   Not Attended  Cloud Fundamentals              171   \n",
       "0        Cleared          AWS Basics               59   \n",
       "6    Not Cleared          AWS Basics               30   \n",
       "4   Not Attended             AWS EC2               24   \n",
       "10  Not Eligible             AWS EC2               22   \n",
       "9   Not Eligible          AWS Basics                3   \n",
       "3   Not Attended          AWS Basics                1   \n",
       "\n",
       "    Total Attended Questions  Questions Correct  Questions Wrong   \n",
       "2                      14494              11499             2232  \\\n",
       "8                       2816               1963              606   \n",
       "1                       2203               2102              260   \n",
       "7                        428                 20               82   \n",
       "11                       216                168               43   \n",
       "5                        171                 97               32   \n",
       "0                         59                 58                1   \n",
       "6                         30                 23                0   \n",
       "4                         24                  2                2   \n",
       "10                        22                  2                8   \n",
       "9                          3                  3                0   \n",
       "3                          1                  1                0   \n",
       "\n",
       "    Questions Partial  Questions Skipped  Questions Not Viewed  \n",
       "2                 237                  0                   526  \n",
       "8                  70                  0                   177  \n",
       "1                2506                  1                   203  \n",
       "7                 298                  0                    28  \n",
       "11                  0                  0                     5  \n",
       "5                   3                  0                    39  \n",
       "0                   0                  0                     0  \n",
       "6                   2                  2                     3  \n",
       "4                  17                  0                     3  \n",
       "10                 11                  0                     1  \n",
       "9                   0                  0                     0  \n",
       "3                   0                  0                     0  "
      ]
     },
     "execution_count": 22,
     "metadata": {},
     "output_type": "execute_result"
    }
   ],
   "source": [
    "M2_subtopic_questions"
   ]
  },
  {
   "cell_type": "code",
   "execution_count": 23,
   "metadata": {},
   "outputs": [],
   "source": [
    "M2_subtopic_questions['Solved_percentage']=(M2_subtopic_questions['Questions Correct']/ M2_subtopic_questions['Total Attended Questions'])*100"
   ]
  },
  {
   "cell_type": "code",
   "execution_count": 24,
   "metadata": {},
   "outputs": [
    {
     "data": {
      "text/html": [
       "<div>\n",
       "<style scoped>\n",
       "    .dataframe tbody tr th:only-of-type {\n",
       "        vertical-align: middle;\n",
       "    }\n",
       "\n",
       "    .dataframe tbody tr th {\n",
       "        vertical-align: top;\n",
       "    }\n",
       "\n",
       "    .dataframe thead th {\n",
       "        text-align: right;\n",
       "    }\n",
       "</style>\n",
       "<table border=\"1\" class=\"dataframe\">\n",
       "  <thead>\n",
       "    <tr style=\"text-align: right;\">\n",
       "      <th></th>\n",
       "      <th>Status</th>\n",
       "      <th>topic_subtopic</th>\n",
       "      <th>Total Questions</th>\n",
       "      <th>Total Attended Questions</th>\n",
       "      <th>Questions Correct</th>\n",
       "      <th>Questions Wrong</th>\n",
       "      <th>Questions Partial</th>\n",
       "      <th>Questions Skipped</th>\n",
       "      <th>Questions Not Viewed</th>\n",
       "      <th>Solved_percentage</th>\n",
       "    </tr>\n",
       "  </thead>\n",
       "  <tbody>\n",
       "    <tr>\n",
       "      <th>2</th>\n",
       "      <td>Cleared</td>\n",
       "      <td>Cloud Fundamentals</td>\n",
       "      <td>14494</td>\n",
       "      <td>14494</td>\n",
       "      <td>11499</td>\n",
       "      <td>2232</td>\n",
       "      <td>237</td>\n",
       "      <td>0</td>\n",
       "      <td>526</td>\n",
       "      <td>79.336277</td>\n",
       "    </tr>\n",
       "    <tr>\n",
       "      <th>8</th>\n",
       "      <td>Not Cleared</td>\n",
       "      <td>Cloud Fundamentals</td>\n",
       "      <td>2816</td>\n",
       "      <td>2816</td>\n",
       "      <td>1963</td>\n",
       "      <td>606</td>\n",
       "      <td>70</td>\n",
       "      <td>0</td>\n",
       "      <td>177</td>\n",
       "      <td>69.708807</td>\n",
       "    </tr>\n",
       "    <tr>\n",
       "      <th>1</th>\n",
       "      <td>Cleared</td>\n",
       "      <td>AWS EC2</td>\n",
       "      <td>2203</td>\n",
       "      <td>2203</td>\n",
       "      <td>2102</td>\n",
       "      <td>260</td>\n",
       "      <td>2506</td>\n",
       "      <td>1</td>\n",
       "      <td>203</td>\n",
       "      <td>95.415343</td>\n",
       "    </tr>\n",
       "    <tr>\n",
       "      <th>7</th>\n",
       "      <td>Not Cleared</td>\n",
       "      <td>AWS EC2</td>\n",
       "      <td>428</td>\n",
       "      <td>428</td>\n",
       "      <td>20</td>\n",
       "      <td>82</td>\n",
       "      <td>298</td>\n",
       "      <td>0</td>\n",
       "      <td>28</td>\n",
       "      <td>4.672897</td>\n",
       "    </tr>\n",
       "    <tr>\n",
       "      <th>11</th>\n",
       "      <td>Not Eligible</td>\n",
       "      <td>Cloud Fundamentals</td>\n",
       "      <td>216</td>\n",
       "      <td>216</td>\n",
       "      <td>168</td>\n",
       "      <td>43</td>\n",
       "      <td>0</td>\n",
       "      <td>0</td>\n",
       "      <td>5</td>\n",
       "      <td>77.777778</td>\n",
       "    </tr>\n",
       "    <tr>\n",
       "      <th>5</th>\n",
       "      <td>Not Attended</td>\n",
       "      <td>Cloud Fundamentals</td>\n",
       "      <td>171</td>\n",
       "      <td>171</td>\n",
       "      <td>97</td>\n",
       "      <td>32</td>\n",
       "      <td>3</td>\n",
       "      <td>0</td>\n",
       "      <td>39</td>\n",
       "      <td>56.725146</td>\n",
       "    </tr>\n",
       "    <tr>\n",
       "      <th>0</th>\n",
       "      <td>Cleared</td>\n",
       "      <td>AWS Basics</td>\n",
       "      <td>59</td>\n",
       "      <td>59</td>\n",
       "      <td>58</td>\n",
       "      <td>1</td>\n",
       "      <td>0</td>\n",
       "      <td>0</td>\n",
       "      <td>0</td>\n",
       "      <td>98.305085</td>\n",
       "    </tr>\n",
       "    <tr>\n",
       "      <th>6</th>\n",
       "      <td>Not Cleared</td>\n",
       "      <td>AWS Basics</td>\n",
       "      <td>30</td>\n",
       "      <td>30</td>\n",
       "      <td>23</td>\n",
       "      <td>0</td>\n",
       "      <td>2</td>\n",
       "      <td>2</td>\n",
       "      <td>3</td>\n",
       "      <td>76.666667</td>\n",
       "    </tr>\n",
       "    <tr>\n",
       "      <th>4</th>\n",
       "      <td>Not Attended</td>\n",
       "      <td>AWS EC2</td>\n",
       "      <td>24</td>\n",
       "      <td>24</td>\n",
       "      <td>2</td>\n",
       "      <td>2</td>\n",
       "      <td>17</td>\n",
       "      <td>0</td>\n",
       "      <td>3</td>\n",
       "      <td>8.333333</td>\n",
       "    </tr>\n",
       "    <tr>\n",
       "      <th>10</th>\n",
       "      <td>Not Eligible</td>\n",
       "      <td>AWS EC2</td>\n",
       "      <td>22</td>\n",
       "      <td>22</td>\n",
       "      <td>2</td>\n",
       "      <td>8</td>\n",
       "      <td>11</td>\n",
       "      <td>0</td>\n",
       "      <td>1</td>\n",
       "      <td>9.090909</td>\n",
       "    </tr>\n",
       "    <tr>\n",
       "      <th>9</th>\n",
       "      <td>Not Eligible</td>\n",
       "      <td>AWS Basics</td>\n",
       "      <td>3</td>\n",
       "      <td>3</td>\n",
       "      <td>3</td>\n",
       "      <td>0</td>\n",
       "      <td>0</td>\n",
       "      <td>0</td>\n",
       "      <td>0</td>\n",
       "      <td>100.000000</td>\n",
       "    </tr>\n",
       "    <tr>\n",
       "      <th>3</th>\n",
       "      <td>Not Attended</td>\n",
       "      <td>AWS Basics</td>\n",
       "      <td>1</td>\n",
       "      <td>1</td>\n",
       "      <td>1</td>\n",
       "      <td>0</td>\n",
       "      <td>0</td>\n",
       "      <td>0</td>\n",
       "      <td>0</td>\n",
       "      <td>100.000000</td>\n",
       "    </tr>\n",
       "  </tbody>\n",
       "</table>\n",
       "</div>"
      ],
      "text/plain": [
       "          Status      topic_subtopic  Total Questions   \n",
       "2        Cleared  Cloud Fundamentals            14494  \\\n",
       "8    Not Cleared  Cloud Fundamentals             2816   \n",
       "1        Cleared             AWS EC2             2203   \n",
       "7    Not Cleared             AWS EC2              428   \n",
       "11  Not Eligible  Cloud Fundamentals              216   \n",
       "5   Not Attended  Cloud Fundamentals              171   \n",
       "0        Cleared          AWS Basics               59   \n",
       "6    Not Cleared          AWS Basics               30   \n",
       "4   Not Attended             AWS EC2               24   \n",
       "10  Not Eligible             AWS EC2               22   \n",
       "9   Not Eligible          AWS Basics                3   \n",
       "3   Not Attended          AWS Basics                1   \n",
       "\n",
       "    Total Attended Questions  Questions Correct  Questions Wrong   \n",
       "2                      14494              11499             2232  \\\n",
       "8                       2816               1963              606   \n",
       "1                       2203               2102              260   \n",
       "7                        428                 20               82   \n",
       "11                       216                168               43   \n",
       "5                        171                 97               32   \n",
       "0                         59                 58                1   \n",
       "6                         30                 23                0   \n",
       "4                         24                  2                2   \n",
       "10                        22                  2                8   \n",
       "9                          3                  3                0   \n",
       "3                          1                  1                0   \n",
       "\n",
       "    Questions Partial  Questions Skipped  Questions Not Viewed   \n",
       "2                 237                  0                   526  \\\n",
       "8                  70                  0                   177   \n",
       "1                2506                  1                   203   \n",
       "7                 298                  0                    28   \n",
       "11                  0                  0                     5   \n",
       "5                   3                  0                    39   \n",
       "0                   0                  0                     0   \n",
       "6                   2                  2                     3   \n",
       "4                  17                  0                     3   \n",
       "10                 11                  0                     1   \n",
       "9                   0                  0                     0   \n",
       "3                   0                  0                     0   \n",
       "\n",
       "    Solved_percentage  \n",
       "2           79.336277  \n",
       "8           69.708807  \n",
       "1           95.415343  \n",
       "7            4.672897  \n",
       "11          77.777778  \n",
       "5           56.725146  \n",
       "0           98.305085  \n",
       "6           76.666667  \n",
       "4            8.333333  \n",
       "10           9.090909  \n",
       "9          100.000000  \n",
       "3          100.000000  "
      ]
     },
     "execution_count": 24,
     "metadata": {},
     "output_type": "execute_result"
    }
   ],
   "source": [
    "M2_subtopic_questions"
   ]
  },
  {
   "cell_type": "code",
   "execution_count": 28,
   "metadata": {},
   "outputs": [
    {
     "data": {
      "application/vnd.plotly.v1+json": {
       "config": {
        "plotlyServerURL": "https://plot.ly"
       },
       "data": [
        {
         "alignmentgroup": "True",
         "hovertemplate": "Status=Cleared<br>Solved_percentage=%{x}<br>topic_subtopic=%{y}<extra></extra>",
         "legendgroup": "Cleared",
         "marker": {
          "color": "#636efa",
          "pattern": {
           "shape": ""
          }
         },
         "name": "Cleared",
         "offsetgroup": "Cleared",
         "orientation": "h",
         "showlegend": true,
         "textposition": "auto",
         "type": "bar",
         "x": [
          79.3362770801711,
          95.41534271448026,
          98.30508474576271
         ],
         "xaxis": "x",
         "y": [
          "Cloud Fundamentals",
          "AWS EC2",
          "AWS Basics"
         ],
         "yaxis": "y"
        },
        {
         "alignmentgroup": "True",
         "hovertemplate": "Status=Not Cleared<br>Solved_percentage=%{x}<br>topic_subtopic=%{y}<extra></extra>",
         "legendgroup": "Not Cleared",
         "marker": {
          "color": "#EF553B",
          "pattern": {
           "shape": ""
          }
         },
         "name": "Not Cleared",
         "offsetgroup": "Not Cleared",
         "orientation": "h",
         "showlegend": true,
         "textposition": "auto",
         "type": "bar",
         "x": [
          69.70880681818183,
          4.672897196261682,
          76.66666666666667
         ],
         "xaxis": "x",
         "y": [
          "Cloud Fundamentals",
          "AWS EC2",
          "AWS Basics"
         ],
         "yaxis": "y"
        },
        {
         "alignmentgroup": "True",
         "hovertemplate": "Status=Not Eligible<br>Solved_percentage=%{x}<br>topic_subtopic=%{y}<extra></extra>",
         "legendgroup": "Not Eligible",
         "marker": {
          "color": "#00cc96",
          "pattern": {
           "shape": ""
          }
         },
         "name": "Not Eligible",
         "offsetgroup": "Not Eligible",
         "orientation": "h",
         "showlegend": true,
         "textposition": "auto",
         "type": "bar",
         "x": [
          77.77777777777779,
          9.090909090909092,
          100
         ],
         "xaxis": "x",
         "y": [
          "Cloud Fundamentals",
          "AWS EC2",
          "AWS Basics"
         ],
         "yaxis": "y"
        },
        {
         "alignmentgroup": "True",
         "hovertemplate": "Status=Not Attended<br>Solved_percentage=%{x}<br>topic_subtopic=%{y}<extra></extra>",
         "legendgroup": "Not Attended",
         "marker": {
          "color": "#ab63fa",
          "pattern": {
           "shape": ""
          }
         },
         "name": "Not Attended",
         "offsetgroup": "Not Attended",
         "orientation": "h",
         "showlegend": true,
         "textposition": "auto",
         "type": "bar",
         "x": [
          56.72514619883041,
          8.333333333333332,
          100
         ],
         "xaxis": "x",
         "y": [
          "Cloud Fundamentals",
          "AWS EC2",
          "AWS Basics"
         ],
         "yaxis": "y"
        }
       ],
       "layout": {
        "barmode": "group",
        "legend": {
         "title": {
          "text": "Status"
         },
         "tracegroupgap": 0
        },
        "margin": {
         "t": 60
        },
        "template": {
         "data": {
          "bar": [
           {
            "error_x": {
             "color": "#2a3f5f"
            },
            "error_y": {
             "color": "#2a3f5f"
            },
            "marker": {
             "line": {
              "color": "#E5ECF6",
              "width": 0.5
             },
             "pattern": {
              "fillmode": "overlay",
              "size": 10,
              "solidity": 0.2
             }
            },
            "type": "bar"
           }
          ],
          "barpolar": [
           {
            "marker": {
             "line": {
              "color": "#E5ECF6",
              "width": 0.5
             },
             "pattern": {
              "fillmode": "overlay",
              "size": 10,
              "solidity": 0.2
             }
            },
            "type": "barpolar"
           }
          ],
          "carpet": [
           {
            "aaxis": {
             "endlinecolor": "#2a3f5f",
             "gridcolor": "white",
             "linecolor": "white",
             "minorgridcolor": "white",
             "startlinecolor": "#2a3f5f"
            },
            "baxis": {
             "endlinecolor": "#2a3f5f",
             "gridcolor": "white",
             "linecolor": "white",
             "minorgridcolor": "white",
             "startlinecolor": "#2a3f5f"
            },
            "type": "carpet"
           }
          ],
          "choropleth": [
           {
            "colorbar": {
             "outlinewidth": 0,
             "ticks": ""
            },
            "type": "choropleth"
           }
          ],
          "contour": [
           {
            "colorbar": {
             "outlinewidth": 0,
             "ticks": ""
            },
            "colorscale": [
             [
              0,
              "#0d0887"
             ],
             [
              0.1111111111111111,
              "#46039f"
             ],
             [
              0.2222222222222222,
              "#7201a8"
             ],
             [
              0.3333333333333333,
              "#9c179e"
             ],
             [
              0.4444444444444444,
              "#bd3786"
             ],
             [
              0.5555555555555556,
              "#d8576b"
             ],
             [
              0.6666666666666666,
              "#ed7953"
             ],
             [
              0.7777777777777778,
              "#fb9f3a"
             ],
             [
              0.8888888888888888,
              "#fdca26"
             ],
             [
              1,
              "#f0f921"
             ]
            ],
            "type": "contour"
           }
          ],
          "contourcarpet": [
           {
            "colorbar": {
             "outlinewidth": 0,
             "ticks": ""
            },
            "type": "contourcarpet"
           }
          ],
          "heatmap": [
           {
            "colorbar": {
             "outlinewidth": 0,
             "ticks": ""
            },
            "colorscale": [
             [
              0,
              "#0d0887"
             ],
             [
              0.1111111111111111,
              "#46039f"
             ],
             [
              0.2222222222222222,
              "#7201a8"
             ],
             [
              0.3333333333333333,
              "#9c179e"
             ],
             [
              0.4444444444444444,
              "#bd3786"
             ],
             [
              0.5555555555555556,
              "#d8576b"
             ],
             [
              0.6666666666666666,
              "#ed7953"
             ],
             [
              0.7777777777777778,
              "#fb9f3a"
             ],
             [
              0.8888888888888888,
              "#fdca26"
             ],
             [
              1,
              "#f0f921"
             ]
            ],
            "type": "heatmap"
           }
          ],
          "heatmapgl": [
           {
            "colorbar": {
             "outlinewidth": 0,
             "ticks": ""
            },
            "colorscale": [
             [
              0,
              "#0d0887"
             ],
             [
              0.1111111111111111,
              "#46039f"
             ],
             [
              0.2222222222222222,
              "#7201a8"
             ],
             [
              0.3333333333333333,
              "#9c179e"
             ],
             [
              0.4444444444444444,
              "#bd3786"
             ],
             [
              0.5555555555555556,
              "#d8576b"
             ],
             [
              0.6666666666666666,
              "#ed7953"
             ],
             [
              0.7777777777777778,
              "#fb9f3a"
             ],
             [
              0.8888888888888888,
              "#fdca26"
             ],
             [
              1,
              "#f0f921"
             ]
            ],
            "type": "heatmapgl"
           }
          ],
          "histogram": [
           {
            "marker": {
             "pattern": {
              "fillmode": "overlay",
              "size": 10,
              "solidity": 0.2
             }
            },
            "type": "histogram"
           }
          ],
          "histogram2d": [
           {
            "colorbar": {
             "outlinewidth": 0,
             "ticks": ""
            },
            "colorscale": [
             [
              0,
              "#0d0887"
             ],
             [
              0.1111111111111111,
              "#46039f"
             ],
             [
              0.2222222222222222,
              "#7201a8"
             ],
             [
              0.3333333333333333,
              "#9c179e"
             ],
             [
              0.4444444444444444,
              "#bd3786"
             ],
             [
              0.5555555555555556,
              "#d8576b"
             ],
             [
              0.6666666666666666,
              "#ed7953"
             ],
             [
              0.7777777777777778,
              "#fb9f3a"
             ],
             [
              0.8888888888888888,
              "#fdca26"
             ],
             [
              1,
              "#f0f921"
             ]
            ],
            "type": "histogram2d"
           }
          ],
          "histogram2dcontour": [
           {
            "colorbar": {
             "outlinewidth": 0,
             "ticks": ""
            },
            "colorscale": [
             [
              0,
              "#0d0887"
             ],
             [
              0.1111111111111111,
              "#46039f"
             ],
             [
              0.2222222222222222,
              "#7201a8"
             ],
             [
              0.3333333333333333,
              "#9c179e"
             ],
             [
              0.4444444444444444,
              "#bd3786"
             ],
             [
              0.5555555555555556,
              "#d8576b"
             ],
             [
              0.6666666666666666,
              "#ed7953"
             ],
             [
              0.7777777777777778,
              "#fb9f3a"
             ],
             [
              0.8888888888888888,
              "#fdca26"
             ],
             [
              1,
              "#f0f921"
             ]
            ],
            "type": "histogram2dcontour"
           }
          ],
          "mesh3d": [
           {
            "colorbar": {
             "outlinewidth": 0,
             "ticks": ""
            },
            "type": "mesh3d"
           }
          ],
          "parcoords": [
           {
            "line": {
             "colorbar": {
              "outlinewidth": 0,
              "ticks": ""
             }
            },
            "type": "parcoords"
           }
          ],
          "pie": [
           {
            "automargin": true,
            "type": "pie"
           }
          ],
          "scatter": [
           {
            "fillpattern": {
             "fillmode": "overlay",
             "size": 10,
             "solidity": 0.2
            },
            "type": "scatter"
           }
          ],
          "scatter3d": [
           {
            "line": {
             "colorbar": {
              "outlinewidth": 0,
              "ticks": ""
             }
            },
            "marker": {
             "colorbar": {
              "outlinewidth": 0,
              "ticks": ""
             }
            },
            "type": "scatter3d"
           }
          ],
          "scattercarpet": [
           {
            "marker": {
             "colorbar": {
              "outlinewidth": 0,
              "ticks": ""
             }
            },
            "type": "scattercarpet"
           }
          ],
          "scattergeo": [
           {
            "marker": {
             "colorbar": {
              "outlinewidth": 0,
              "ticks": ""
             }
            },
            "type": "scattergeo"
           }
          ],
          "scattergl": [
           {
            "marker": {
             "colorbar": {
              "outlinewidth": 0,
              "ticks": ""
             }
            },
            "type": "scattergl"
           }
          ],
          "scattermapbox": [
           {
            "marker": {
             "colorbar": {
              "outlinewidth": 0,
              "ticks": ""
             }
            },
            "type": "scattermapbox"
           }
          ],
          "scatterpolar": [
           {
            "marker": {
             "colorbar": {
              "outlinewidth": 0,
              "ticks": ""
             }
            },
            "type": "scatterpolar"
           }
          ],
          "scatterpolargl": [
           {
            "marker": {
             "colorbar": {
              "outlinewidth": 0,
              "ticks": ""
             }
            },
            "type": "scatterpolargl"
           }
          ],
          "scatterternary": [
           {
            "marker": {
             "colorbar": {
              "outlinewidth": 0,
              "ticks": ""
             }
            },
            "type": "scatterternary"
           }
          ],
          "surface": [
           {
            "colorbar": {
             "outlinewidth": 0,
             "ticks": ""
            },
            "colorscale": [
             [
              0,
              "#0d0887"
             ],
             [
              0.1111111111111111,
              "#46039f"
             ],
             [
              0.2222222222222222,
              "#7201a8"
             ],
             [
              0.3333333333333333,
              "#9c179e"
             ],
             [
              0.4444444444444444,
              "#bd3786"
             ],
             [
              0.5555555555555556,
              "#d8576b"
             ],
             [
              0.6666666666666666,
              "#ed7953"
             ],
             [
              0.7777777777777778,
              "#fb9f3a"
             ],
             [
              0.8888888888888888,
              "#fdca26"
             ],
             [
              1,
              "#f0f921"
             ]
            ],
            "type": "surface"
           }
          ],
          "table": [
           {
            "cells": {
             "fill": {
              "color": "#EBF0F8"
             },
             "line": {
              "color": "white"
             }
            },
            "header": {
             "fill": {
              "color": "#C8D4E3"
             },
             "line": {
              "color": "white"
             }
            },
            "type": "table"
           }
          ]
         },
         "layout": {
          "annotationdefaults": {
           "arrowcolor": "#2a3f5f",
           "arrowhead": 0,
           "arrowwidth": 1
          },
          "autotypenumbers": "strict",
          "coloraxis": {
           "colorbar": {
            "outlinewidth": 0,
            "ticks": ""
           }
          },
          "colorscale": {
           "diverging": [
            [
             0,
             "#8e0152"
            ],
            [
             0.1,
             "#c51b7d"
            ],
            [
             0.2,
             "#de77ae"
            ],
            [
             0.3,
             "#f1b6da"
            ],
            [
             0.4,
             "#fde0ef"
            ],
            [
             0.5,
             "#f7f7f7"
            ],
            [
             0.6,
             "#e6f5d0"
            ],
            [
             0.7,
             "#b8e186"
            ],
            [
             0.8,
             "#7fbc41"
            ],
            [
             0.9,
             "#4d9221"
            ],
            [
             1,
             "#276419"
            ]
           ],
           "sequential": [
            [
             0,
             "#0d0887"
            ],
            [
             0.1111111111111111,
             "#46039f"
            ],
            [
             0.2222222222222222,
             "#7201a8"
            ],
            [
             0.3333333333333333,
             "#9c179e"
            ],
            [
             0.4444444444444444,
             "#bd3786"
            ],
            [
             0.5555555555555556,
             "#d8576b"
            ],
            [
             0.6666666666666666,
             "#ed7953"
            ],
            [
             0.7777777777777778,
             "#fb9f3a"
            ],
            [
             0.8888888888888888,
             "#fdca26"
            ],
            [
             1,
             "#f0f921"
            ]
           ],
           "sequentialminus": [
            [
             0,
             "#0d0887"
            ],
            [
             0.1111111111111111,
             "#46039f"
            ],
            [
             0.2222222222222222,
             "#7201a8"
            ],
            [
             0.3333333333333333,
             "#9c179e"
            ],
            [
             0.4444444444444444,
             "#bd3786"
            ],
            [
             0.5555555555555556,
             "#d8576b"
            ],
            [
             0.6666666666666666,
             "#ed7953"
            ],
            [
             0.7777777777777778,
             "#fb9f3a"
            ],
            [
             0.8888888888888888,
             "#fdca26"
            ],
            [
             1,
             "#f0f921"
            ]
           ]
          },
          "colorway": [
           "#636efa",
           "#EF553B",
           "#00cc96",
           "#ab63fa",
           "#FFA15A",
           "#19d3f3",
           "#FF6692",
           "#B6E880",
           "#FF97FF",
           "#FECB52"
          ],
          "font": {
           "color": "#2a3f5f"
          },
          "geo": {
           "bgcolor": "white",
           "lakecolor": "white",
           "landcolor": "#E5ECF6",
           "showlakes": true,
           "showland": true,
           "subunitcolor": "white"
          },
          "hoverlabel": {
           "align": "left"
          },
          "hovermode": "closest",
          "mapbox": {
           "style": "light"
          },
          "paper_bgcolor": "white",
          "plot_bgcolor": "#E5ECF6",
          "polar": {
           "angularaxis": {
            "gridcolor": "white",
            "linecolor": "white",
            "ticks": ""
           },
           "bgcolor": "#E5ECF6",
           "radialaxis": {
            "gridcolor": "white",
            "linecolor": "white",
            "ticks": ""
           }
          },
          "scene": {
           "xaxis": {
            "backgroundcolor": "#E5ECF6",
            "gridcolor": "white",
            "gridwidth": 2,
            "linecolor": "white",
            "showbackground": true,
            "ticks": "",
            "zerolinecolor": "white"
           },
           "yaxis": {
            "backgroundcolor": "#E5ECF6",
            "gridcolor": "white",
            "gridwidth": 2,
            "linecolor": "white",
            "showbackground": true,
            "ticks": "",
            "zerolinecolor": "white"
           },
           "zaxis": {
            "backgroundcolor": "#E5ECF6",
            "gridcolor": "white",
            "gridwidth": 2,
            "linecolor": "white",
            "showbackground": true,
            "ticks": "",
            "zerolinecolor": "white"
           }
          },
          "shapedefaults": {
           "line": {
            "color": "#2a3f5f"
           }
          },
          "ternary": {
           "aaxis": {
            "gridcolor": "white",
            "linecolor": "white",
            "ticks": ""
           },
           "baxis": {
            "gridcolor": "white",
            "linecolor": "white",
            "ticks": ""
           },
           "bgcolor": "#E5ECF6",
           "caxis": {
            "gridcolor": "white",
            "linecolor": "white",
            "ticks": ""
           }
          },
          "title": {
           "x": 0.05
          },
          "xaxis": {
           "automargin": true,
           "gridcolor": "white",
           "linecolor": "white",
           "ticks": "",
           "title": {
            "standoff": 15
           },
           "zerolinecolor": "white",
           "zerolinewidth": 2
          },
          "yaxis": {
           "automargin": true,
           "gridcolor": "white",
           "linecolor": "white",
           "ticks": "",
           "title": {
            "standoff": 15
           },
           "zerolinecolor": "white",
           "zerolinewidth": 2
          }
         }
        },
        "xaxis": {
         "anchor": "y",
         "domain": [
          0,
          1
         ],
         "title": {
          "text": "Solved_percentage"
         }
        },
        "yaxis": {
         "anchor": "x",
         "domain": [
          0,
          1
         ],
         "title": {
          "text": "topic_subtopic"
         }
        }
       }
      },
      "text/html": [
       "<div>                            <div id=\"c2ecea37-32e2-448a-b998-89f0b448c6d9\" class=\"plotly-graph-div\" style=\"height:525px; width:100%;\"></div>            <script type=\"text/javascript\">                require([\"plotly\"], function(Plotly) {                    window.PLOTLYENV=window.PLOTLYENV || {};                                    if (document.getElementById(\"c2ecea37-32e2-448a-b998-89f0b448c6d9\")) {                    Plotly.newPlot(                        \"c2ecea37-32e2-448a-b998-89f0b448c6d9\",                        [{\"alignmentgroup\":\"True\",\"hovertemplate\":\"Status=Cleared<br>Solved_percentage=%{x}<br>topic_subtopic=%{y}<extra></extra>\",\"legendgroup\":\"Cleared\",\"marker\":{\"color\":\"#636efa\",\"pattern\":{\"shape\":\"\"}},\"name\":\"Cleared\",\"offsetgroup\":\"Cleared\",\"orientation\":\"h\",\"showlegend\":true,\"textposition\":\"auto\",\"x\":[79.3362770801711,95.41534271448026,98.30508474576271],\"xaxis\":\"x\",\"y\":[\"Cloud Fundamentals\",\"AWS EC2\",\"AWS Basics\"],\"yaxis\":\"y\",\"type\":\"bar\"},{\"alignmentgroup\":\"True\",\"hovertemplate\":\"Status=Not Cleared<br>Solved_percentage=%{x}<br>topic_subtopic=%{y}<extra></extra>\",\"legendgroup\":\"Not Cleared\",\"marker\":{\"color\":\"#EF553B\",\"pattern\":{\"shape\":\"\"}},\"name\":\"Not Cleared\",\"offsetgroup\":\"Not Cleared\",\"orientation\":\"h\",\"showlegend\":true,\"textposition\":\"auto\",\"x\":[69.70880681818183,4.672897196261682,76.66666666666667],\"xaxis\":\"x\",\"y\":[\"Cloud Fundamentals\",\"AWS EC2\",\"AWS Basics\"],\"yaxis\":\"y\",\"type\":\"bar\"},{\"alignmentgroup\":\"True\",\"hovertemplate\":\"Status=Not Eligible<br>Solved_percentage=%{x}<br>topic_subtopic=%{y}<extra></extra>\",\"legendgroup\":\"Not Eligible\",\"marker\":{\"color\":\"#00cc96\",\"pattern\":{\"shape\":\"\"}},\"name\":\"Not Eligible\",\"offsetgroup\":\"Not Eligible\",\"orientation\":\"h\",\"showlegend\":true,\"textposition\":\"auto\",\"x\":[77.77777777777779,9.090909090909092,100.0],\"xaxis\":\"x\",\"y\":[\"Cloud Fundamentals\",\"AWS EC2\",\"AWS Basics\"],\"yaxis\":\"y\",\"type\":\"bar\"},{\"alignmentgroup\":\"True\",\"hovertemplate\":\"Status=Not Attended<br>Solved_percentage=%{x}<br>topic_subtopic=%{y}<extra></extra>\",\"legendgroup\":\"Not Attended\",\"marker\":{\"color\":\"#ab63fa\",\"pattern\":{\"shape\":\"\"}},\"name\":\"Not Attended\",\"offsetgroup\":\"Not Attended\",\"orientation\":\"h\",\"showlegend\":true,\"textposition\":\"auto\",\"x\":[56.72514619883041,8.333333333333332,100.0],\"xaxis\":\"x\",\"y\":[\"Cloud Fundamentals\",\"AWS EC2\",\"AWS Basics\"],\"yaxis\":\"y\",\"type\":\"bar\"}],                        {\"template\":{\"data\":{\"histogram2dcontour\":[{\"type\":\"histogram2dcontour\",\"colorbar\":{\"outlinewidth\":0,\"ticks\":\"\"},\"colorscale\":[[0.0,\"#0d0887\"],[0.1111111111111111,\"#46039f\"],[0.2222222222222222,\"#7201a8\"],[0.3333333333333333,\"#9c179e\"],[0.4444444444444444,\"#bd3786\"],[0.5555555555555556,\"#d8576b\"],[0.6666666666666666,\"#ed7953\"],[0.7777777777777778,\"#fb9f3a\"],[0.8888888888888888,\"#fdca26\"],[1.0,\"#f0f921\"]]}],\"choropleth\":[{\"type\":\"choropleth\",\"colorbar\":{\"outlinewidth\":0,\"ticks\":\"\"}}],\"histogram2d\":[{\"type\":\"histogram2d\",\"colorbar\":{\"outlinewidth\":0,\"ticks\":\"\"},\"colorscale\":[[0.0,\"#0d0887\"],[0.1111111111111111,\"#46039f\"],[0.2222222222222222,\"#7201a8\"],[0.3333333333333333,\"#9c179e\"],[0.4444444444444444,\"#bd3786\"],[0.5555555555555556,\"#d8576b\"],[0.6666666666666666,\"#ed7953\"],[0.7777777777777778,\"#fb9f3a\"],[0.8888888888888888,\"#fdca26\"],[1.0,\"#f0f921\"]]}],\"heatmap\":[{\"type\":\"heatmap\",\"colorbar\":{\"outlinewidth\":0,\"ticks\":\"\"},\"colorscale\":[[0.0,\"#0d0887\"],[0.1111111111111111,\"#46039f\"],[0.2222222222222222,\"#7201a8\"],[0.3333333333333333,\"#9c179e\"],[0.4444444444444444,\"#bd3786\"],[0.5555555555555556,\"#d8576b\"],[0.6666666666666666,\"#ed7953\"],[0.7777777777777778,\"#fb9f3a\"],[0.8888888888888888,\"#fdca26\"],[1.0,\"#f0f921\"]]}],\"heatmapgl\":[{\"type\":\"heatmapgl\",\"colorbar\":{\"outlinewidth\":0,\"ticks\":\"\"},\"colorscale\":[[0.0,\"#0d0887\"],[0.1111111111111111,\"#46039f\"],[0.2222222222222222,\"#7201a8\"],[0.3333333333333333,\"#9c179e\"],[0.4444444444444444,\"#bd3786\"],[0.5555555555555556,\"#d8576b\"],[0.6666666666666666,\"#ed7953\"],[0.7777777777777778,\"#fb9f3a\"],[0.8888888888888888,\"#fdca26\"],[1.0,\"#f0f921\"]]}],\"contourcarpet\":[{\"type\":\"contourcarpet\",\"colorbar\":{\"outlinewidth\":0,\"ticks\":\"\"}}],\"contour\":[{\"type\":\"contour\",\"colorbar\":{\"outlinewidth\":0,\"ticks\":\"\"},\"colorscale\":[[0.0,\"#0d0887\"],[0.1111111111111111,\"#46039f\"],[0.2222222222222222,\"#7201a8\"],[0.3333333333333333,\"#9c179e\"],[0.4444444444444444,\"#bd3786\"],[0.5555555555555556,\"#d8576b\"],[0.6666666666666666,\"#ed7953\"],[0.7777777777777778,\"#fb9f3a\"],[0.8888888888888888,\"#fdca26\"],[1.0,\"#f0f921\"]]}],\"surface\":[{\"type\":\"surface\",\"colorbar\":{\"outlinewidth\":0,\"ticks\":\"\"},\"colorscale\":[[0.0,\"#0d0887\"],[0.1111111111111111,\"#46039f\"],[0.2222222222222222,\"#7201a8\"],[0.3333333333333333,\"#9c179e\"],[0.4444444444444444,\"#bd3786\"],[0.5555555555555556,\"#d8576b\"],[0.6666666666666666,\"#ed7953\"],[0.7777777777777778,\"#fb9f3a\"],[0.8888888888888888,\"#fdca26\"],[1.0,\"#f0f921\"]]}],\"mesh3d\":[{\"type\":\"mesh3d\",\"colorbar\":{\"outlinewidth\":0,\"ticks\":\"\"}}],\"scatter\":[{\"fillpattern\":{\"fillmode\":\"overlay\",\"size\":10,\"solidity\":0.2},\"type\":\"scatter\"}],\"parcoords\":[{\"type\":\"parcoords\",\"line\":{\"colorbar\":{\"outlinewidth\":0,\"ticks\":\"\"}}}],\"scatterpolargl\":[{\"type\":\"scatterpolargl\",\"marker\":{\"colorbar\":{\"outlinewidth\":0,\"ticks\":\"\"}}}],\"bar\":[{\"error_x\":{\"color\":\"#2a3f5f\"},\"error_y\":{\"color\":\"#2a3f5f\"},\"marker\":{\"line\":{\"color\":\"#E5ECF6\",\"width\":0.5},\"pattern\":{\"fillmode\":\"overlay\",\"size\":10,\"solidity\":0.2}},\"type\":\"bar\"}],\"scattergeo\":[{\"type\":\"scattergeo\",\"marker\":{\"colorbar\":{\"outlinewidth\":0,\"ticks\":\"\"}}}],\"scatterpolar\":[{\"type\":\"scatterpolar\",\"marker\":{\"colorbar\":{\"outlinewidth\":0,\"ticks\":\"\"}}}],\"histogram\":[{\"marker\":{\"pattern\":{\"fillmode\":\"overlay\",\"size\":10,\"solidity\":0.2}},\"type\":\"histogram\"}],\"scattergl\":[{\"type\":\"scattergl\",\"marker\":{\"colorbar\":{\"outlinewidth\":0,\"ticks\":\"\"}}}],\"scatter3d\":[{\"type\":\"scatter3d\",\"line\":{\"colorbar\":{\"outlinewidth\":0,\"ticks\":\"\"}},\"marker\":{\"colorbar\":{\"outlinewidth\":0,\"ticks\":\"\"}}}],\"scattermapbox\":[{\"type\":\"scattermapbox\",\"marker\":{\"colorbar\":{\"outlinewidth\":0,\"ticks\":\"\"}}}],\"scatterternary\":[{\"type\":\"scatterternary\",\"marker\":{\"colorbar\":{\"outlinewidth\":0,\"ticks\":\"\"}}}],\"scattercarpet\":[{\"type\":\"scattercarpet\",\"marker\":{\"colorbar\":{\"outlinewidth\":0,\"ticks\":\"\"}}}],\"carpet\":[{\"aaxis\":{\"endlinecolor\":\"#2a3f5f\",\"gridcolor\":\"white\",\"linecolor\":\"white\",\"minorgridcolor\":\"white\",\"startlinecolor\":\"#2a3f5f\"},\"baxis\":{\"endlinecolor\":\"#2a3f5f\",\"gridcolor\":\"white\",\"linecolor\":\"white\",\"minorgridcolor\":\"white\",\"startlinecolor\":\"#2a3f5f\"},\"type\":\"carpet\"}],\"table\":[{\"cells\":{\"fill\":{\"color\":\"#EBF0F8\"},\"line\":{\"color\":\"white\"}},\"header\":{\"fill\":{\"color\":\"#C8D4E3\"},\"line\":{\"color\":\"white\"}},\"type\":\"table\"}],\"barpolar\":[{\"marker\":{\"line\":{\"color\":\"#E5ECF6\",\"width\":0.5},\"pattern\":{\"fillmode\":\"overlay\",\"size\":10,\"solidity\":0.2}},\"type\":\"barpolar\"}],\"pie\":[{\"automargin\":true,\"type\":\"pie\"}]},\"layout\":{\"autotypenumbers\":\"strict\",\"colorway\":[\"#636efa\",\"#EF553B\",\"#00cc96\",\"#ab63fa\",\"#FFA15A\",\"#19d3f3\",\"#FF6692\",\"#B6E880\",\"#FF97FF\",\"#FECB52\"],\"font\":{\"color\":\"#2a3f5f\"},\"hovermode\":\"closest\",\"hoverlabel\":{\"align\":\"left\"},\"paper_bgcolor\":\"white\",\"plot_bgcolor\":\"#E5ECF6\",\"polar\":{\"bgcolor\":\"#E5ECF6\",\"angularaxis\":{\"gridcolor\":\"white\",\"linecolor\":\"white\",\"ticks\":\"\"},\"radialaxis\":{\"gridcolor\":\"white\",\"linecolor\":\"white\",\"ticks\":\"\"}},\"ternary\":{\"bgcolor\":\"#E5ECF6\",\"aaxis\":{\"gridcolor\":\"white\",\"linecolor\":\"white\",\"ticks\":\"\"},\"baxis\":{\"gridcolor\":\"white\",\"linecolor\":\"white\",\"ticks\":\"\"},\"caxis\":{\"gridcolor\":\"white\",\"linecolor\":\"white\",\"ticks\":\"\"}},\"coloraxis\":{\"colorbar\":{\"outlinewidth\":0,\"ticks\":\"\"}},\"colorscale\":{\"sequential\":[[0.0,\"#0d0887\"],[0.1111111111111111,\"#46039f\"],[0.2222222222222222,\"#7201a8\"],[0.3333333333333333,\"#9c179e\"],[0.4444444444444444,\"#bd3786\"],[0.5555555555555556,\"#d8576b\"],[0.6666666666666666,\"#ed7953\"],[0.7777777777777778,\"#fb9f3a\"],[0.8888888888888888,\"#fdca26\"],[1.0,\"#f0f921\"]],\"sequentialminus\":[[0.0,\"#0d0887\"],[0.1111111111111111,\"#46039f\"],[0.2222222222222222,\"#7201a8\"],[0.3333333333333333,\"#9c179e\"],[0.4444444444444444,\"#bd3786\"],[0.5555555555555556,\"#d8576b\"],[0.6666666666666666,\"#ed7953\"],[0.7777777777777778,\"#fb9f3a\"],[0.8888888888888888,\"#fdca26\"],[1.0,\"#f0f921\"]],\"diverging\":[[0,\"#8e0152\"],[0.1,\"#c51b7d\"],[0.2,\"#de77ae\"],[0.3,\"#f1b6da\"],[0.4,\"#fde0ef\"],[0.5,\"#f7f7f7\"],[0.6,\"#e6f5d0\"],[0.7,\"#b8e186\"],[0.8,\"#7fbc41\"],[0.9,\"#4d9221\"],[1,\"#276419\"]]},\"xaxis\":{\"gridcolor\":\"white\",\"linecolor\":\"white\",\"ticks\":\"\",\"title\":{\"standoff\":15},\"zerolinecolor\":\"white\",\"automargin\":true,\"zerolinewidth\":2},\"yaxis\":{\"gridcolor\":\"white\",\"linecolor\":\"white\",\"ticks\":\"\",\"title\":{\"standoff\":15},\"zerolinecolor\":\"white\",\"automargin\":true,\"zerolinewidth\":2},\"scene\":{\"xaxis\":{\"backgroundcolor\":\"#E5ECF6\",\"gridcolor\":\"white\",\"linecolor\":\"white\",\"showbackground\":true,\"ticks\":\"\",\"zerolinecolor\":\"white\",\"gridwidth\":2},\"yaxis\":{\"backgroundcolor\":\"#E5ECF6\",\"gridcolor\":\"white\",\"linecolor\":\"white\",\"showbackground\":true,\"ticks\":\"\",\"zerolinecolor\":\"white\",\"gridwidth\":2},\"zaxis\":{\"backgroundcolor\":\"#E5ECF6\",\"gridcolor\":\"white\",\"linecolor\":\"white\",\"showbackground\":true,\"ticks\":\"\",\"zerolinecolor\":\"white\",\"gridwidth\":2}},\"shapedefaults\":{\"line\":{\"color\":\"#2a3f5f\"}},\"annotationdefaults\":{\"arrowcolor\":\"#2a3f5f\",\"arrowhead\":0,\"arrowwidth\":1},\"geo\":{\"bgcolor\":\"white\",\"landcolor\":\"#E5ECF6\",\"subunitcolor\":\"white\",\"showland\":true,\"showlakes\":true,\"lakecolor\":\"white\"},\"title\":{\"x\":0.05},\"mapbox\":{\"style\":\"light\"}}},\"xaxis\":{\"anchor\":\"y\",\"domain\":[0.0,1.0],\"title\":{\"text\":\"Solved_percentage\"}},\"yaxis\":{\"anchor\":\"x\",\"domain\":[0.0,1.0],\"title\":{\"text\":\"topic_subtopic\"}},\"legend\":{\"title\":{\"text\":\"Status\"},\"tracegroupgap\":0},\"margin\":{\"t\":60},\"barmode\":\"group\"},                        {\"responsive\": true}                    ).then(function(){\n",
       "                            \n",
       "var gd = document.getElementById('c2ecea37-32e2-448a-b998-89f0b448c6d9');\n",
       "var x = new MutationObserver(function (mutations, observer) {{\n",
       "        var display = window.getComputedStyle(gd).display;\n",
       "        if (!display || display === 'none') {{\n",
       "            console.log([gd, 'removed!']);\n",
       "            Plotly.purge(gd);\n",
       "            observer.disconnect();\n",
       "        }}\n",
       "}});\n",
       "\n",
       "// Listen for the removal of the full notebook cells\n",
       "var notebookContainer = gd.closest('#notebook-container');\n",
       "if (notebookContainer) {{\n",
       "    x.observe(notebookContainer, {childList: true});\n",
       "}}\n",
       "\n",
       "// Listen for the clearing of the current output cell\n",
       "var outputEl = gd.closest('.output');\n",
       "if (outputEl) {{\n",
       "    x.observe(outputEl, {childList: true});\n",
       "}}\n",
       "\n",
       "                        })                };                });            </script>        </div>"
      ]
     },
     "metadata": {},
     "output_type": "display_data"
    }
   ],
   "source": [
    "fig = px.bar(M2_subtopic_questions, y=\"topic_subtopic\", x=\"Solved_percentage\",color='Status',barmode='group')\n",
    "fig.show()"
   ]
  },
  {
   "cell_type": "code",
   "execution_count": null,
   "metadata": {},
   "outputs": [],
   "source": []
  }
 ],
 "metadata": {
  "kernelspec": {
   "display_name": "base",
   "language": "python",
   "name": "python3"
  },
  "language_info": {
   "codemirror_mode": {
    "name": "ipython",
    "version": 3
   },
   "file_extension": ".py",
   "mimetype": "text/x-python",
   "name": "python",
   "nbconvert_exporter": "python",
   "pygments_lexer": "ipython3",
   "version": "3.10.9"
  },
  "orig_nbformat": 4
 },
 "nbformat": 4,
 "nbformat_minor": 2
}
